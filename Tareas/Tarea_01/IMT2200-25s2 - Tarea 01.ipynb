{
 "cells": [
  {
   "cell_type": "markdown",
   "id": "a34d140a",
   "metadata": {},
   "source": [
    "IMT 2200 - Introducción a Ciencia de Datos<br>\n",
    "**Pontificia Universidad Católica de Chile**<br>\n",
    "**Instituto de Ingeniería Matemática y Computacional**<br>\n",
    "**Semestre 2025-S2**<br>\n",
    "**Profesor:** Rodrigo A. Carrasco <br>\n",
    "\n",
    "---\n",
    "\n",
    "## Tarea 01 – Cargando y Analizando Datos\n",
    "\n",
    "- **Fecha de Entrega:** martes 26 de agosto de 2025, a las 23:59.\n",
    "- \n",
    "**Formato de entrega:** Notebook ejecutado y comentado (`.ipynb`) en l emódulo de Tara 01 habilitado en Canvas.\r\n",
    "\n",
    "\n"
   ]
  },
  {
   "cell_type": "markdown",
   "id": "b6928ed9-0a2b-4588-8282-b3f3e5e24a8c",
   "metadata": {},
   "source": [
    "## Instrucciones\n",
    "\n",
    "- Esta Tarea debe desarrollarse de manera totalmente *individual*, de acuerdo a lo establecido en la sección de Integridad Académica en el programa del curso.\n",
    "- La Tarea debe ser desarrollada en lenguaje de programación Python y la entrega en formato Jupyter Notebook.\n",
    "- El desarrollo del Notebook debe ser claro y ordenado, incluyendo anotaciones (markdown) y comentarios que permitan seguir fácilmente el código y los pasos implementados a los correctores, y siguiendo buenas prácticas de programación. La presentación y claridad del notebook y código forman parte de la evaluación de la tarea.\n",
    "- Notebook **autocontenible** que:\n",
    "   - Ejecute sin errores todas las celdas.\r\n",
    "  - Contenga tanto el código como los comentarios y explicaciones necesarias.\r\n",
    "  - Incluya visualizaciones claras y correctamente etiquetadas.\r\n",
    "- No se aceptarán notebooks con celdas rotas o que dependan de rutas externas no indicadas en la tara.\r\n",
    "\n",
    "- Deben hacer sus consultas y comentarios sobre la Tarea a traves del canal de Tareas en eo del curso en Canvas.os.\n",
    "cteriza."
   ]
  },
  {
   "cell_type": "markdown",
   "id": "35a88d5e-b718-4b8e-81c8-dc169d02e88e",
   "metadata": {},
   "source": [
    "## 1. Objetivos\n",
    "\n",
    "- Aplicar los conceptos iniciales de manejo de datos y análisis exploratorio vistos en clases.\n",
    "- Practicar la lectura, limpieza y manipulación de datos en Python.\n",
    "- Desarrollar habilidades para visualizar y describir patrones y tendencias en conjuntos de datos reales.\n",
    "- Fomentar la capacidad de comunicar resultados de forma clara y fundamentada.\n",
    "\n",
    "### 1.1 Objetivo educacional\n",
    "\n",
    "Esta Tarea tiene como objetivo que los estudiantes desarrollen la capacidad de manejar algunas de las librerías centrales para el desarrollo de Ciencia de Datos, con foco en la lectura y exploración de datos. \n",
    "\n",
    "Para los ejercicios a continuación, usted deberá leer, inspeccionar, manipular y graficar conjuntos de datos en distintos formatos, de manera de responder las preguntas de cada parte de la Tarea.\n",
    "\n",
    "### 1.2 Pregunta de ciencia de datos\n",
    "\n",
    "Para esta tarea, tendremos como objetivo comprender cómo han cambiado los juegos de mesa en los últimos 40 años. Específicamente queremos saber qué tipos de juegos se han vuelto más comunes hoy en día y qué los caracteriza.\n",
    "\n",
    "### 1.3 Recomendaciones\n",
    "- Utiliza las librerías sugeridas en el notebook o justifica brevemente si incorporas otras.\n",
    "- Revisa que todas las celdas se ejecuten en orden, desde el inicio, sin errores.\n",
    "- Comenta tu código para explicar qué hace cada sección relevante.\n",
    "- Asegúrate de que las visualizaciones sean fáciles de interpretar y tengan títulos y etiquetas adecuados."
   ]
  },
  {
   "cell_type": "markdown",
   "id": "116596ef",
   "metadata": {},
   "source": [
    "## 2. Datos\n",
    "\n",
    "Estaremos utilizando información extraída desde [BoardGameGeek.com](https://boardgamegeek.com/), una plataforma para aficionados de los juegos de mesa, que permite a sus usuarios registrar, calificar e intercambiar sus juegos favoritos. Actualmente, BGG es una de las bases de datos más extensa y diversa de juegos de mesa.\n",
    "\n",
    "El dataset con el que trabajaremos consiste en un grupo de archivos CSV que contienen información sobre más de 100.000 juegos de mesa almacenados en la plataforma. Este puede descargarse directamente desde el siguiente enlace: https://www.kaggle.com/datasets/mshepherd/board-games Para descargar los datos, haga click en el botón de **Download**, donde podrá descargar los archivos como `.zip`, o bien utilizar la API de Kaggle.\n",
    "\n",
    "Para el desarrollo de esta tarea, solo utilizaremos los archivos con el prefijo `bgg_`.\n",
    "\n",
    "**Si utiliza la API de Kaggle para descargar los datos, deje el código utilizado en la siguiente celda:**"
   ]
  },
  {
   "cell_type": "code",
   "execution_count": null,
   "id": "3499fd7e",
   "metadata": {},
   "outputs": [],
   "source": [
    "# Descarga de datos desde Kaggle"
   ]
  },
  {
   "cell_type": "markdown",
   "id": "c32f6e52",
   "metadata": {},
   "source": [
    "### 2.1 Librerías\n",
    "\n",
    "Para esta tarea recomendamos al menos usar las librerías indicadas en la siguiente celda del Notebook. Puede agregar otras si lo estima conveniente para responder de mejor forma las preguntas de la Tarea."
   ]
  },
  {
   "cell_type": "code",
   "execution_count": 4,
   "id": "87be9d83",
   "metadata": {},
   "outputs": [],
   "source": [
    "import numpy as np\n",
    "import pandas as pd\n",
    "import matplotlib.pyplot as plt"
   ]
  },
  {
   "cell_type": "markdown",
   "id": "49c9c1e7",
   "metadata": {},
   "source": [
    "## 3. Desarrollo\n",
    "\n",
    "Para cada una de las siguientes preguntas o actividades incluya una o más celdas de código y Markdown con las respuestas o comentarios necesarios para contestar la pregunta o lograr la actividad. Agregue sus celdas a continuación de cada pregunta para que el Notebook quede ordenado.\n",
    "\n",
    "En el caso de gráficos, figuras o tablas, asegúrese que todas tengan título, etiquetas en los ejes o haya claridad de los contenidos."
   ]
  },
  {
   "cell_type": "markdown",
   "id": "dfc274ca",
   "metadata": {},
   "source": [
    "### 3.1 DataFrame unificado (1 punto)\n",
    "\n",
    "Vamos a cargar en un DataFrame los datos de juegos guardados en el documento `bgg_GameItem.csv`. Al inspeccionar nuestros datos, podemos notar que los valores de ciertas comunas vienen \"codificados\" con ID. Para comenzar, vamos a juntar la información de los distintos archivos descargados.\n",
    "\n",
    "**a) (0.8 pts)** Genere un DataFrame único con toda la información de cada juego, incluyendo: nombres de artistas y diseñadores involucrados, mecánicas, categorías, tipo, familia y editorial. Guarde este DataFrame en un nuevo archivo CSV."
   ]
  },
  {
   "cell_type": "code",
   "execution_count": 136,
   "id": "12aabf07",
   "metadata": {
    "scrolled": true
   },
   "outputs": [
    {
     "data": {
      "text/html": [
       "<div>\n",
       "<style scoped>\n",
       "    .dataframe tbody tr th:only-of-type {\n",
       "        vertical-align: middle;\n",
       "    }\n",
       "\n",
       "    .dataframe tbody tr th {\n",
       "        vertical-align: top;\n",
       "    }\n",
       "\n",
       "    .dataframe thead th {\n",
       "        text-align: right;\n",
       "    }\n",
       "</style>\n",
       "<table border=\"1\" class=\"dataframe\">\n",
       "  <thead>\n",
       "    <tr style=\"text-align: right;\">\n",
       "      <th></th>\n",
       "      <th>bgg_id</th>\n",
       "      <th>name</th>\n",
       "      <th>year</th>\n",
       "      <th>artist</th>\n",
       "      <th>mechanic</th>\n",
       "      <th>category</th>\n",
       "      <th>game_type</th>\n",
       "      <th>family</th>\n",
       "      <th>publisher</th>\n",
       "    </tr>\n",
       "  </thead>\n",
       "  <tbody>\n",
       "    <tr>\n",
       "      <th>0</th>\n",
       "      <td>1</td>\n",
       "      <td>Die Macher</td>\n",
       "      <td>1986.0</td>\n",
       "      <td>12517,4959</td>\n",
       "      <td>2916,2080,2012,2072,2040,2020</td>\n",
       "      <td>1021,1026,1001</td>\n",
       "      <td>5497</td>\n",
       "      <td>10643,34116,91</td>\n",
       "      <td>133,2,24883,2726,15108,39249,11652,5382,8147</td>\n",
       "    </tr>\n",
       "    <tr>\n",
       "      <th>1</th>\n",
       "      <td>2</td>\n",
       "      <td>Dragonmaster</td>\n",
       "      <td>1981.0</td>\n",
       "      <td>12424</td>\n",
       "      <td>2009</td>\n",
       "      <td>1002,1010</td>\n",
       "      <td>5497</td>\n",
       "      <td>73592,7005,75454</td>\n",
       "      <td>64,20</td>\n",
       "    </tr>\n",
       "    <tr>\n",
       "      <th>2</th>\n",
       "      <td>3</td>\n",
       "      <td>Samurai</td>\n",
       "      <td>1998.0</td>\n",
       "      <td>11883</td>\n",
       "      <td>2080,2040,2026,2846,2004,2002</td>\n",
       "      <td>1009,1035</td>\n",
       "      <td>5497</td>\n",
       "      <td>64960,10634,70711,60111,42,28732</td>\n",
       "      <td>17,133,267,29,7340,7335,41,2973,4617,1391,8291...</td>\n",
       "    </tr>\n",
       "    <tr>\n",
       "      <th>3</th>\n",
       "      <td>4</td>\n",
       "      <td>Tal der Könige</td>\n",
       "      <td>1992.0</td>\n",
       "      <td>2277</td>\n",
       "      <td>2001,2080,2012,2004</td>\n",
       "      <td>1050</td>\n",
       "      <td>5497</td>\n",
       "      <td>64229,6471,11505</td>\n",
       "      <td>37</td>\n",
       "    </tr>\n",
       "    <tr>\n",
       "      <th>4</th>\n",
       "      <td>5</td>\n",
       "      <td>Acquire</td>\n",
       "      <td>1964.0</td>\n",
       "      <td>12658,18317</td>\n",
       "      <td>2040,2910,2900,2940,2005,2002,2874</td>\n",
       "      <td>1021,1086</td>\n",
       "      <td>5497</td>\n",
       "      <td>78494,4891</td>\n",
       "      <td>92,5,4871,3082,858,2962,28072,5392,4668,38,462...</td>\n",
       "    </tr>\n",
       "  </tbody>\n",
       "</table>\n",
       "</div>"
      ],
      "text/plain": [
       "   bgg_id            name    year       artist  \\\n",
       "0       1      Die Macher  1986.0   12517,4959   \n",
       "1       2    Dragonmaster  1981.0        12424   \n",
       "2       3         Samurai  1998.0        11883   \n",
       "3       4  Tal der Könige  1992.0         2277   \n",
       "4       5         Acquire  1964.0  12658,18317   \n",
       "\n",
       "                             mechanic        category game_type  \\\n",
       "0       2916,2080,2012,2072,2040,2020  1021,1026,1001      5497   \n",
       "1                                2009       1002,1010      5497   \n",
       "2       2080,2040,2026,2846,2004,2002       1009,1035      5497   \n",
       "3                 2001,2080,2012,2004            1050      5497   \n",
       "4  2040,2910,2900,2940,2005,2002,2874       1021,1086      5497   \n",
       "\n",
       "                             family  \\\n",
       "0                    10643,34116,91   \n",
       "1                  73592,7005,75454   \n",
       "2  64960,10634,70711,60111,42,28732   \n",
       "3                  64229,6471,11505   \n",
       "4                        78494,4891   \n",
       "\n",
       "                                           publisher  \n",
       "0       133,2,24883,2726,15108,39249,11652,5382,8147  \n",
       "1                                              64,20  \n",
       "2  17,133,267,29,7340,7335,41,2973,4617,1391,8291...  \n",
       "3                                                 37  \n",
       "4  92,5,4871,3082,858,2962,28072,5392,4668,38,462...  "
      ]
     },
     "execution_count": 136,
     "metadata": {},
     "output_type": "execute_result"
    }
   ],
   "source": [
    "dataframe = pd.read_csv(\"Database_T1/bgg_GameItem.csv\")\n",
    "#necesitamos nombre artista y diseñadores involucrados, mecanicas, categorias, tipo, familia y editorial\n",
    "df = dataframe[[\"bgg_id\", \"name\", \"year\", \"artist\", \"mechanic\", \"category\", \"game_type\", \"family\" , \"publisher\"]]\n",
    "df.head()\n",
    "#empezamos con nombre de artistas y diseñadores involucrados que se encuentra en el archivo bgg_Person.csv\n",
    "artist = pd.read_csv(\"Database_T1/bgg_Person.csv\")\n",
    "#luego vamos con mecanicas que se encuentra en el archivo bgg_Mechanic.csv\n",
    "mechanic = pd.read_csv(\"Database_T1/bgg_Mechanic.csv\")\n",
    "#despues vamos con categorias que se encuentra en el archivo bgg_Category.csv\n",
    "category = pd.read_csv(\"Database_T1/bgg_Category.csv\")\n",
    "#ahora vamos con tipo que se encuentra en el archivo bgg_GameType.csv\n",
    "game_type = pd.read_csv(\"Database_T1/bgg_GameType.csv\")\n",
    "#pasamos a familia que se encuentra en el archivo bgg_GameFamily.csv\n",
    "family = pd.read_csv(\"Database_T1/bgg_GameFamily.csv\")\n",
    "#terminamos con editorial que se encuentra en el archivo bgg_Publisher.csv\n",
    "publisher = pd.read_csv(\"Database_T1/bgg_Publisher.csv\")\n",
    "df.head()"
   ]
  },
  {
   "cell_type": "markdown",
   "id": "dec5cbbb",
   "metadata": {},
   "source": [
    "**b) (0.2 pts)** ¿Cuánto espacio en disco ocupa este DataFrame? ¿Cuánto espacio en disco ocupan los documentos CSV separados? ¿A qué se debe esta diferencia? Comente.\n",
    "\n"
   ]
  },
  {
   "cell_type": "code",
   "execution_count": null,
   "id": "0c7af84e-b23b-483a-aea1-dbe3da635ab9",
   "metadata": {},
   "outputs": [],
   "source": []
  },
  {
   "cell_type": "markdown",
   "id": "030904e0",
   "metadata": {},
   "source": [
    "El espacio que ocupa el DataFrame creado en el disco es de xx bytes"
   ]
  },
  {
   "cell_type": "markdown",
   "id": "b8c7bec6",
   "metadata": {},
   "source": [
    "### 3.2 Juegos publicados anualmente (1.5 puntos)\n",
    "\n",
    "\n",
    "**a) (0.5 pts)** Limpie los datos para dejar solo aquellos que tienen valores válidos de año de publicación. Luego responda: ¿cuál es el rango de años con el que estamos trabajando? ¿Tienen sentido estos años?\n"
   ]
  },
  {
   "cell_type": "code",
   "execution_count": null,
   "id": "a8c60679",
   "metadata": {},
   "outputs": [],
   "source": []
  },
  {
   "cell_type": "markdown",
   "id": "7b8d452e",
   "metadata": {},
   "source": [
    "**b) (0.5 pts)** Seleccione solamente los juegos entre los años 1980 y 2025. Luego grafique la cantidad de juegos publicados por año. ¿Cómo es esta tendencia? Comente."
   ]
  },
  {
   "cell_type": "code",
   "execution_count": null,
   "id": "f073e58e",
   "metadata": {},
   "outputs": [],
   "source": []
  },
  {
   "cell_type": "markdown",
   "id": "047c1e61",
   "metadata": {},
   "source": [
    "**c) (0.5 pts)** ¿Entre qué años hubo un mayor aumento de publicación de juegos de mesa según los registros de BGG?"
   ]
  },
  {
   "cell_type": "code",
   "execution_count": null,
   "id": "e09fa10b",
   "metadata": {},
   "outputs": [],
   "source": []
  },
  {
   "cell_type": "markdown",
   "id": "6c22b65f",
   "metadata": {},
   "source": [
    "### 3.3 Análisis de duración y complejidad (1.5 puntos)\n",
    "\n",
    "Si bien hay muchas posibles características que podemos explorar para los juegos de mesa, esta vez nos centraremos en el tiempo de juego y la complejidad. En esta sección queremos comprender si se ha modificado notablemente la duración promedio y la percepción de complejidad de los juegos de mesa a través de los años."
   ]
  },
  {
   "cell_type": "markdown",
   "id": "e6f0c875",
   "metadata": {},
   "source": [
    "**a) (0.3 pts)** Inspecciones y filtre los datos que tengan valores válidos para: tiempo mínimo de juego, tiempo máximo de juego y complejidad. En el caso de que existan \"outliers\", puede descartarlos, cosiderando un rango razonable para las variables anteriores. Justifique su desición."
   ]
  },
  {
   "cell_type": "code",
   "execution_count": null,
   "id": "0e87bbc2",
   "metadata": {},
   "outputs": [],
   "source": []
  },
  {
   "cell_type": "markdown",
   "id": "848e2dee",
   "metadata": {},
   "source": [
    "**b) (0.2 pts)** Veremos ahora si ha cambiado la duración promedio de los juegos de mesa en nuestro rango de años seleccionado. Primero, cree una nueva columna `avg_time` en el dataset con la duración promedio supuesta para cada juego."
   ]
  },
  {
   "cell_type": "code",
   "execution_count": null,
   "id": "204778d8",
   "metadata": {},
   "outputs": [],
   "source": []
  },
  {
   "cell_type": "markdown",
   "id": "89df6ae6",
   "metadata": {},
   "source": [
    "**c) (0.5 pts)** Grafique la duración promedio de juegos al año entre 1980 y 2025. ¿Existe alguna tendencia? Asegúrese de colocar las unidades correspondientes en sus ejes si es necesario. Comente sus resultados."
   ]
  },
  {
   "cell_type": "code",
   "execution_count": null,
   "id": "765da813",
   "metadata": {},
   "outputs": [],
   "source": []
  },
  {
   "cell_type": "markdown",
   "id": "a5847905",
   "metadata": {},
   "source": [
    "**d) (0.5 pts)** Nos interesa saber si los juegos de mesa recientes son más complejos que aquellos publicados antes de los 2000. BoardGameGeek permite evaluar la complejidad (o \"weight\") de un juego en una escala de 1 a 5, siendo 1 un juego \"liviano\" o fácil de entender, y 5 un juego \"pesado\" o complejo. Primero, seleccione los juegos que han sido evaluados por al menos 100 usuarios. Luego grafique la complejidad promedio de los juegos según año. Responda: ¿ha cambiado la percepción de complejidad entre juegos entre 1980 y la actualidad?"
   ]
  },
  {
   "cell_type": "code",
   "execution_count": null,
   "id": "776553e6",
   "metadata": {},
   "outputs": [],
   "source": []
  },
  {
   "cell_type": "markdown",
   "id": "9a241f39",
   "metadata": {},
   "source": [
    "### 3.4 Análisis de categorías comunes (2 puntos)\n",
    "\n",
    "Existe una gran diversidad de categorías de juegos de mesa. Ahora nos concentraremos en un grupo específico de ellas, con el fin de analizar cómo a cambiado la cantidad de juegos de estas clases desde 1980 hasta hoy.\n",
    "\n",
    "**a) (0.7 pts)** ¿Cuáles son las 5 categorías más comunes en los juegos del dataset? Muestre la cantidad de juegos que hay de cada una. Puede graficar estos valores, o bien, entregar un DataFrame con sus valores."
   ]
  },
  {
   "cell_type": "code",
   "execution_count": null,
   "id": "13730de1",
   "metadata": {},
   "outputs": [],
   "source": []
  },
  {
   "cell_type": "markdown",
   "id": "d9aa153e",
   "metadata": {},
   "source": [
    "**b) (0.3 pts)** Para cada una de estas 5 categorías, cree un DataFrame que contenga la cantidad de juegos en el dataset según año. Luego junte estos DataFrames en uno solo con los atributos de \"Año\", \"Categoría\" y \"Cantidad\"."
   ]
  },
  {
   "cell_type": "code",
   "execution_count": null,
   "id": "325d450d",
   "metadata": {},
   "outputs": [],
   "source": []
  },
  {
   "cell_type": "markdown",
   "id": "d299aa4c",
   "metadata": {},
   "source": [
    "**c) (1 pto)** Grafique, en un solo gráfico y con distintos colores, la cantidad de juegos por año según categoría. Preocúpese de ponerle etiquetas al gráfico para identificar cada categoría y una leyenda donde se muestre cada una. Comente: ¿ha habido un cambio entre los juegos más comunes en los años 80 y hoy?\n"
   ]
  },
  {
   "cell_type": "code",
   "execution_count": null,
   "id": "7ad14cda",
   "metadata": {},
   "outputs": [],
   "source": []
  },
  {
   "cell_type": "markdown",
   "id": "9db1ea34-4030-4b3a-8853-4ef75f894298",
   "metadata": {},
   "source": [
    "### 3.5 Análisis Crítico (Bono +0.5 puntos)\n",
    "\n",
    "¿Qué limitaciones o problemas encontraste en los datos?"
   ]
  },
  {
   "cell_type": "code",
   "execution_count": null,
   "id": "cdbb98fe-7278-48ee-af95-05801244c50d",
   "metadata": {},
   "outputs": [],
   "source": []
  }
 ],
 "metadata": {
  "kernelspec": {
   "display_name": "Python 3 (ipykernel)",
   "language": "python",
   "name": "python3"
  },
  "language_info": {
   "codemirror_mode": {
    "name": "ipython",
    "version": 3
   },
   "file_extension": ".py",
   "mimetype": "text/x-python",
   "name": "python",
   "nbconvert_exporter": "python",
   "pygments_lexer": "ipython3",
   "version": "3.12.9"
  }
 },
 "nbformat": 4,
 "nbformat_minor": 5
}
